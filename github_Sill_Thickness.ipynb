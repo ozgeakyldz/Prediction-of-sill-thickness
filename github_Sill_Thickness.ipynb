{
 "cells": [
  {
   "cell_type": "markdown",
   "id": "fda2b032-c23c-465a-aaee-3580caa98e56",
   "metadata": {},
   "source": [
    "### IN THIS NOTEBOOK SILL THICKNESS PREDICTION MODELS (Random forest, Logistic regression and SVM) ARE TRAINED AND TESTED"
   ]
  },
  {
   "cell_type": "code",
   "execution_count": null,
   "id": "6b17dc01-466b-4914-880a-f9e057b4cf0d",
   "metadata": {},
   "outputs": [],
   "source": [
    "### IMPORT THE NECESSARY LIBRARIES TO IMPORT THE DATASET\n",
    "\n",
    "import pandas as pd\n",
    "import numpy as np"
   ]
  },
  {
   "cell_type": "code",
   "execution_count": null,
   "id": "6152f2a4-85ac-4e8a-80ea-b46833884315",
   "metadata": {},
   "outputs": [],
   "source": [
    "### IMPORT THE DATASET FROM CSV FILE\n",
    "mwd = pd.read_csv(\"mwd_supplementary.csv\"); mwd"
   ]
  },
  {
   "cell_type": "code",
   "execution_count": null,
   "id": "c1a1d102-58dd-4a43-9849-afa097d0ff78",
   "metadata": {},
   "outputs": [],
   "source": [
    "### DEFINE A NEW DATASET COMPRISING THE MWD COMING FROM FIRST 3 METERS OF EACH HOLE\n",
    "mwd_new = mwd[mwd.Depth<=3]; mwd_new "
   ]
  },
  {
   "cell_type": "code",
   "execution_count": null,
   "id": "89092560-7386-448c-b0b1-b82f2b56415b",
   "metadata": {
    "tags": []
   },
   "outputs": [],
   "source": [
    "### DIVIDE THE DATA REGARDING THE BOREHOLE ID s AND PREPARE FOR LABELLING\n",
    "### LABELLING THE DATA AS SILL(0) OR NOT (1)\n",
    "\n",
    "groups = mwd_new.groupby(mwd_new['Hole id'])\n",
    "h_db95d6684b = groups.get_group('db95d6684b'); h_db95d6684b['class'] = np.where((h_db95d6684b['HoleNo']==23) & (h_db95d6684b['Salve']==1938) & (h_db95d6684b['Depth']<=0.75), 0, 1); \n",
    "h_07b4bd5a9d = groups.get_group('07b4bd5a9d'); h_07b4bd5a9d['class'] = np.where((h_07b4bd5a9d['HoleNo']==2) & (h_07b4bd5a9d['Salve']==1938) & (h_07b4bd5a9d['Depth']<=1.65), 0, 1);\n",
    "h_14c2f806ff = groups.get_group('14c2f806ff'); h_14c2f806ff['class'] = np.where((h_14c2f806ff['HoleNo']==28) & (h_14c2f806ff['Salve']==1941) & (h_14c2f806ff['Depth']<0.40), 0, 1);\n",
    "h_29be0312e2 = groups.get_group('29be0312e2'); h_29be0312e2['class'] = np.where((h_29be0312e2['HoleNo']==13) & (h_29be0312e2['Salve']==1938) & (h_29be0312e2['Depth']<=1.2), 0, 1); \n",
    "h_35f0f14168 = groups.get_group('35f0f14168'); h_35f0f14168['class'] = np.where((h_35f0f14168['HoleNo']==24) & (h_35f0f14168['Salve']==1939) & (0.35<h_35f0f14168['Depth']) & (h_35f0f14168['Depth']<1.7), 0, 1);\n",
    "h_432e88547b = groups.get_group('432e88547b'); h_432e88547b['class'] = np.where((h_432e88547b['HoleNo']==21) & (h_432e88547b['Salve']==1939) & (h_432e88547b['Depth']<0.75), 0, 1);\n",
    "h_519ca0a683 = groups.get_group('519ca0a683'); h_519ca0a683['class'] = np.where((h_519ca0a683['HoleNo']==85) & (h_519ca0a683['Salve']==1940) & (h_519ca0a683['Depth']<=1.75), 0, 1);\n",
    "h_53034ece37 = groups.get_group('53034ece37'); h_53034ece37['class'] = np.where((h_53034ece37['HoleNo']==34) & (h_53034ece37['Salve']==1938) & (h_53034ece37['Depth']<0.55), 0, 1);\n",
    "h_5b88eb1e23 = groups.get_group('5b88eb1e23'); h_5b88eb1e23['class'] = np.where((h_5b88eb1e23['HoleNo']==27) & (h_5b88eb1e23['Salve']==1939) & (h_5b88eb1e23['Depth']<=1.45), 0, 1);\n",
    "h_6a7cb0d5af = groups.get_group('6a7cb0d5af'); h_6a7cb0d5af['class'] = np.where((h_6a7cb0d5af['HoleNo']==76) & (h_6a7cb0d5af['Salve']==1940) & (h_6a7cb0d5af['Depth']<=0.75), 0, 1);\n",
    "h_b8960bac07 = groups.get_group('b8960bac07'); h_b8960bac07['class'] = np.where((h_b8960bac07['HoleNo']==79) & (h_b8960bac07['Salve']==1940) & (0.30<h_b8960bac07['Depth']) & (h_b8960bac07['Depth']<1.25), 0, 1);\n",
    "h_be8b244c5c = groups.get_group('be8b244c5c'); h_be8b244c5c['class'] = np.where((h_be8b244c5c['HoleNo']==7) & (h_be8b244c5c['Salve']==1941) & (h_be8b244c5c['Depth']<=1.25), 0, 1);\n",
    "h_c4e502a4b2 = groups.get_group('c4e502a4b2'); h_c4e502a4b2['class'] = np.where((h_c4e502a4b2['HoleNo']==14) & (h_c4e502a4b2['Salve']==1941) & (h_c4e502a4b2['Depth']<0.40), 0, 1);\n",
    "h_c69005e9d6 = groups.get_group('c69005e9d6'); h_c69005e9d6['class'] = np.where((h_c69005e9d6['HoleNo']==18) & (h_c69005e9d6['Salve']==1939) & (h_c69005e9d6['Depth']<0.4), 0, 1);\n",
    "h_c92afa1018 = groups.get_group('c92afa1018'); h_c92afa1018['class'] = np.where((h_c92afa1018['HoleNo']==21) & (h_c92afa1018['Salve']==1941) & (0.30<h_c92afa1018['Depth']) & (h_c92afa1018['Depth']<2.35), 0, 1);\n",
    "h_d6abc83da1 = groups.get_group('d6abc83da1'); h_d6abc83da1['class'] = np.where((h_d6abc83da1['HoleNo']==35) & (h_d6abc83da1['Salve']==1941) & (h_d6abc83da1['Depth']<=0.80), 0, 1); "
   ]
  },
  {
   "cell_type": "code",
   "execution_count": null,
   "id": "7192ee04-3050-40a6-889b-b37ff5a57c6f",
   "metadata": {},
   "outputs": [],
   "source": [
    "### MERGE THE GROUPED DATA INTO ONE AND DROP THE COLUMNS THAT IS NOT USEFUL\n",
    "\n",
    "classified_data = pd.concat([h_07b4bd5a9d, h_14c2f806ff, h_29be0312e2,h_35f0f14168,h_432e88547b,h_519ca0a683,h_53034ece37,h_5b88eb1e23,h_6a7cb0d5af,h_b8960bac07,h_be8b244c5c,\n",
    "                             h_c4e502a4b2,h_c69005e9d6,h_c92afa1018,h_d6abc83da1,h_db95d6684b]); \n",
    "\n",
    "classified_data.drop(['Time','Salve','HoleNo','Hardness'], axis=1, inplace=True); \n",
    "classified_data.reset_index(drop=True, inplace=True)"
   ]
  },
  {
   "cell_type": "code",
   "execution_count": null,
   "id": "5390c30c-f3e7-4d4c-a072-422d33b40bcd",
   "metadata": {},
   "outputs": [],
   "source": [
    "### DEFINE THE TRAINING DATASET\n",
    "\n",
    "train_data = classified_data[(classified_data['Hole id'] != 'db95d6684b') & (classified_data['Hole id'] != '29be0312e2') & (classified_data['Hole id'] != 'd6abc83da1')\n",
    "                             &(classified_data['Hole id'] != 'c92afa1018')]; train_data"
   ]
  },
  {
   "cell_type": "code",
   "execution_count": null,
   "id": "1392f465-fd98-4674-8070-e6f7f9514ea7",
   "metadata": {},
   "outputs": [],
   "source": [
    "### DEFINE THE TESTING DATASET\n",
    "\n",
    "test_data = classified_data[(classified_data['Hole id'] == 'db95d6684b') | (classified_data['Hole id'] == '29be0312e2') |(classified_data['Hole id'] == 'd6abc83da1')\n",
    "                             |(classified_data['Hole id'] == 'c92afa1018')]; test_data"
   ]
  },
  {
   "cell_type": "code",
   "execution_count": null,
   "id": "33491a67-5d2f-476c-9403-c9e1716f9375",
   "metadata": {},
   "outputs": [],
   "source": [
    "### DEFINE THE OUTPUTS AND INPUTS\n",
    "\n",
    "X_train = train_data.drop(['Depth',\"Dampening pressure\", \"Percussion pressure\",\"Hole id\",\"class\",'der_farki'], axis=1)\n",
    "y_train = train_data[[\"Hole id\",'class','der_farki']]\n",
    "\n",
    "X_test = test_data.drop(['Depth',\"Dampening pressure\", \"Percussion pressure\",\"Hole id\", \"class\", 'der_farki'], axis=1)\n",
    "y_test = test_data[[\"Hole id\",'class','der_farki']]\n",
    "\n",
    "train_depth = pd.DataFrame(train_data.Depth); train_depth\n",
    "test_depth = pd.DataFrame(test_data.Depth); \n",
    "all_depth = pd.concat([train_depth, test_depth]); all_depth"
   ]
  },
  {
   "cell_type": "code",
   "execution_count": null,
   "id": "3660c073-8f5d-4684-aaa9-5a78f6e0aead",
   "metadata": {
    "tags": []
   },
   "outputs": [],
   "source": [
    "### IMPORT THE NECESSARY LIBRARIES FOR THE TRAINING WITH GRID SEARCH, K-FOLD, RANDOM FOREST ALGORITHM, CLASSIFICATION METRICS \n",
    "\n",
    "from sklearn.ensemble import RandomForestClassifier\n",
    "from sklearn.model_selection import GridSearchCV, RepeatedStratifiedKFold\n",
    "from sklearn.metrics import confusion_matrix, classification_report\n",
    "\n",
    "model = RandomForestClassifier(max_depth=5)\n",
    "n_estimators = range(100, 120)\n",
    "max_features = ['sqrt', 'log2']\n",
    "\n",
    "grid = dict(n_estimators=n_estimators,max_features=max_features)\n",
    "cv = RepeatedStratifiedKFold(n_splits=10, n_repeats=3, random_state=1) \n",
    "\n",
    "#Repeats Stratified K-Fold n times with different randomization in each repetition.\n",
    "#This cross-validation object is a variation of KFold that returns stratified folds. The folds are made by preserving the percentage of samples for each class.\n",
    "#n_splits, Number of folds. Must be at least 2.\n",
    "#n_repeats, Number of times cross-validator needs to be repeated.\n",
    "\n",
    "grid_search = GridSearchCV(estimator=model, param_grid=grid, n_jobs=-1, cv=cv, scoring='recall')\n",
    "grid_result = grid_search.fit(X_train, y_train['class'])\n",
    "\n",
    "print(\"Best: %f using %s\" % (grid_result.best_score_, grid_result.best_params_))\n",
    "means = grid_result.cv_results_['mean_test_score']\n",
    "stds = grid_result.cv_results_['std_test_score']\n",
    "params = grid_result.cv_results_['params']\n",
    "for mean, stdev, param in zip(means, stds, params):\n",
    "    print(\"%f (%f) with: %r\" % (mean, stdev, param))"
   ]
  },
  {
   "cell_type": "code",
   "execution_count": null,
   "id": "fabaebfb-512d-4717-ac98-757c24d24f0e",
   "metadata": {},
   "outputs": [],
   "source": [
    "### SAVE THE BEST MODEL AND PREDICT THE TEST DATA\n",
    "\n",
    "model_rf = grid_search.best_estimator_\n",
    "pred = model_rf.predict(X_test)\n",
    "pred = pd.DataFrame(pred).set_index(y_test.index)\n",
    "train_pred = model_rf.predict(X_train)\n",
    "train_pred = pd.DataFrame(train_pred).set_index(y_train.index)\n",
    "pred"
   ]
  },
  {
   "cell_type": "code",
   "execution_count": null,
   "id": "de7917ef-f378-4b52-91e5-03d64b212f47",
   "metadata": {},
   "outputs": [],
   "source": [
    "### VISUALIZE THE PREDICTED AND REAL CLASSES TO EVALUATE THE MODEL\n",
    "\n",
    "import seaborn as sns\n",
    "import matplotlib.pyplot as plt\n",
    "cm_test = confusion_matrix(pred, y_test['class'])\n",
    "sns.heatmap(cm_test, annot=True, fmt='.1f')\n",
    "plt.title('CONF MATR')\n",
    "plt.xlabel('Predictions')\n",
    "plt.ylabel('True Values');"
   ]
  },
  {
   "cell_type": "code",
   "execution_count": null,
   "id": "34e3e7c4-8f2e-4e75-ac60-1edae89f5438",
   "metadata": {},
   "outputs": [],
   "source": [
    "### IMPORT JOBLIB LIBRARY TO SAVE THE FINAL MODEL TO BE USED FUTURE PREDICTIONS\n",
    "\n",
    "import joblib\n",
    "filename = 'RF_sill_model.sav'\n",
    "joblib.dump(model_rf, filename)"
   ]
  },
  {
   "cell_type": "markdown",
   "id": "d4a9ffb8-d579-4676-ab39-743a625b4a47",
   "metadata": {},
   "source": [
    "### THE TRAINING AND TESTING STEPS WILL BE REPEATED WITH LOGISTIC REGRESSION AND SVM ALGORITHMS"
   ]
  },
  {
   "cell_type": "code",
   "execution_count": null,
   "id": "311f7957-7481-4c09-aff2-fa5cda2a04e4",
   "metadata": {
    "tags": []
   },
   "outputs": [],
   "source": [
    "from sklearn.linear_model import LogisticRegression\n",
    "\n",
    "model = LogisticRegression()\n",
    "solvers = ['newton-cg', 'lbfgs', 'liblinear']\n",
    "penalty = ['l2']\n",
    "c_values = [1, 0.1, 0.01, 0.001,0.0001]\n",
    "\n",
    "cv = RepeatedStratifiedKFold(n_splits=10, n_repeats=3, random_state=1)\n",
    "\n",
    "#KFold(n_splits=4)\n",
    "grid = dict(solver= solvers, penalty=penalty, C=c_values)\n",
    "grid_search = GridSearchCV(estimator=model, param_grid=grid, cv=cv, n_jobs=-1, scoring='recall')\n",
    "grid_result = grid_search.fit(X_train, y_train['class'])\n",
    "\n",
    "print('Best hyperparameters:', grid_result.best_params_)\n",
    "means = grid_result.cv_results_['mean_test_score']\n",
    "stds = grid_result.cv_results_['std_test_score']\n",
    "params = grid_result.cv_results_['params']\n",
    "for mean, stdev, param in zip(means, stds, params):\n",
    "    print(\"%f (%f) with: %r\" % (mean, stdev, param))\n"
   ]
  },
  {
   "cell_type": "code",
   "execution_count": null,
   "id": "fbac77df-9dae-4d54-a924-b4ff6697e871",
   "metadata": {},
   "outputs": [],
   "source": [
    "model_log = grid_search.best_estimator_\n",
    "pred = model_log.predict(X_test)\n",
    "pred = pd.DataFrame(pred).set_index(y_test.index)\n",
    "train_pred = model_log.predict(X_train)\n",
    "train_pred = pd.DataFrame(train_pred).set_index(y_train.index)"
   ]
  },
  {
   "cell_type": "code",
   "execution_count": null,
   "id": "4bf5df6e-896e-4475-9de4-9e48fd859c67",
   "metadata": {},
   "outputs": [],
   "source": [
    "import seaborn as sns\n",
    "import matplotlib.pyplot as plt\n",
    "cm_test = confusion_matrix(pred, y_test['class'])\n",
    "sns.heatmap(cm_test, annot=True, fmt='.1f')\n",
    "plt.title('CONF MATR')\n",
    "plt.xlabel('Predictions')\n",
    "plt.ylabel('True Values');"
   ]
  },
  {
   "cell_type": "code",
   "execution_count": null,
   "id": "b09bacac-b794-493a-b71d-e3a06a4aef6e",
   "metadata": {},
   "outputs": [],
   "source": [
    "import joblib\n",
    "filename = 'LOG_sill_model.sav'\n",
    "joblib.dump(model_log, filename)"
   ]
  },
  {
   "cell_type": "code",
   "execution_count": null,
   "id": "b2d6fa91-404d-4801-a14e-56d8e3043106",
   "metadata": {},
   "outputs": [],
   "source": [
    "### THE DATA IS SCALED BEFORE THE TRAINING STEP WITH SVM ALGORITHM\n",
    "\n",
    "from sklearn.preprocessing import StandardScaler\n",
    "from sklearn.model_selection import GridSearchCV"
   ]
  },
  {
   "cell_type": "code",
   "execution_count": null,
   "id": "b369ae86-6a3b-4a54-a069-cf1bd43348f5",
   "metadata": {},
   "outputs": [],
   "source": [
    "scaler = StandardScaler().fit(X_train)\n",
    "train_inputs = scaler.transform(X_train)\n",
    "test_inputs = scaler.transform(X_train)"
   ]
  },
  {
   "cell_type": "code",
   "execution_count": null,
   "id": "91572d48-17b2-44b9-8ca6-5a9de447d814",
   "metadata": {
    "tags": []
   },
   "outputs": [],
   "source": [
    "from sklearn.svm import SVC\n",
    "\n",
    "model = SVC(probability=True)\n",
    "kernel = ['poly','rbf','sigmoid']\n",
    "C = [10, 100, 200]\n",
    "\n",
    "grid = dict(kernel=kernel, C=C)\n",
    "cv=RepeatedStratifiedKFold(n_splits=10, n_repeats=3, random_state=1)\n",
    "\n",
    "#Repeats Stratified K-Fold n times with different randomization in each repetition.\n",
    "#This cross-validation object is a variation of KFold that returns stratified folds. The folds are made by preserving the percentage of samples for each class.\n",
    "#n_splits, Number of folds. Must be at least 2.\n",
    "#n_repeats, Number of times cross-validator needs to be repeated.\n",
    "\n",
    "grid_search = GridSearchCV(model, param_grid=grid, cv=cv, n_jobs=-1)\n",
    "grid_result = grid_search.fit(X_train, y_train['class'])\n",
    "\n",
    "print('Best %f using %s' % (grid_result.best_score_, grid_result.best_params_))\n",
    "means =grid_result.cv_results_['mean_test_score']\n",
    "stds = grid_result.cv_results_['std_test_score']\n",
    "params = grid_result.cv_results_['params']\n",
    "\n",
    "for mean, stdev, param in zip(means,stds,params):\n",
    "    print('%f (%f) with: %r' % (mean, stdev,param))"
   ]
  },
  {
   "cell_type": "code",
   "execution_count": null,
   "id": "2c0acb7a-d53c-4d2a-99ac-1d51387ed6e7",
   "metadata": {},
   "outputs": [],
   "source": [
    "model_svm = grid_search.best_estimator_\n",
    "pred = model_svm.predict(X_test)\n",
    "pred = pd.DataFrame(pred).set_index(y_test.index)\n",
    "train_pred = model_svm.predict(X_train)\n",
    "train_pred = pd.DataFrame(train_pred).set_index(y_train.index)"
   ]
  },
  {
   "cell_type": "code",
   "execution_count": null,
   "id": "2965cbfa-d3df-46c3-b087-54bd599875ee",
   "metadata": {},
   "outputs": [],
   "source": [
    "import seaborn as sns\n",
    "import matplotlib.pyplot as plt\n",
    "cm_test = confusion_matrix(pred, y_test['class'])\n",
    "sns.heatmap(cm_test, annot=True, fmt='.1f')\n",
    "plt.title('CONF MATR')\n",
    "plt.xlabel('Predictions')\n",
    "plt.ylabel('True Values');\n",
    "model_svm.score(X_test, y_test['class'])"
   ]
  },
  {
   "cell_type": "code",
   "execution_count": null,
   "id": "1ca949a1-e2c5-4915-adfa-00b1b3263ef9",
   "metadata": {},
   "outputs": [],
   "source": [
    "pred = rf_best.predict(X_test)\n",
    "pred = pd.DataFrame(pred).set_index(y_test.index)\n",
    "train_pred = rf_best.predict(X_train)\n",
    "train_pred = pd.DataFrame(train_pred).set_index(y_train.index)\n",
    "pred"
   ]
  },
  {
   "cell_type": "code",
   "execution_count": null,
   "id": "b0bae53a-5ef3-4f83-8f24-bd030bf859d9",
   "metadata": {},
   "outputs": [],
   "source": [
    "import seaborn as sns\n",
    "import matplotlib.pyplot as plt\n",
    "cm_test = confusion_matrix(pred, y_test['class'])\n",
    "sns.heatmap(cm_test, annot=True, fmt='.1f')\n",
    "plt.title('CONF MATR')\n",
    "plt.xlabel('Predictions')\n",
    "plt.ylabel('True Values');"
   ]
  },
  {
   "cell_type": "code",
   "execution_count": null,
   "id": "d2b1c015-27c0-4a5e-9216-438660781723",
   "metadata": {
    "tags": []
   },
   "outputs": [],
   "source": [
    "filename = 'svm_sill_model.sav'\n",
    "joblib.dump(model_svm, filename)"
   ]
  }
 ],
 "metadata": {
  "kernelspec": {
   "display_name": "Python 3",
   "language": "python",
   "name": "python3"
  },
  "language_info": {
   "codemirror_mode": {
    "name": "ipython",
    "version": 3
   },
   "file_extension": ".py",
   "mimetype": "text/x-python",
   "name": "python",
   "nbconvert_exporter": "python",
   "pygments_lexer": "ipython3",
   "version": "3.8.8"
  }
 },
 "nbformat": 4,
 "nbformat_minor": 5
}
